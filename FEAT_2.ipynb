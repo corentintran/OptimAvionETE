{
 "cells": [
  {
   "cell_type": "markdown",
   "id": "18306cf4",
   "metadata": {},
   "source": [
    "# FEAT method"
   ]
  },
  {
   "cell_type": "markdown",
   "id": "6728b010",
   "metadata": {},
   "source": [
    "#### Importation of the librairies"
   ]
  },
  {
   "cell_type": "code",
   "execution_count": 22,
   "id": "5309690b",
   "metadata": {},
   "outputs": [],
   "source": [
    "import pandas as pd\n",
    "import numpy as np"
   ]
  },
  {
   "cell_type": "markdown",
   "id": "bbfb03ec",
   "metadata": {},
   "source": [
    "### List of the flights, according to Eurocontrol"
   ]
  },
  {
   "cell_type": "code",
   "execution_count": 2,
   "id": "3739c574",
   "metadata": {},
   "outputs": [],
   "source": [
    "# !pip install nb_black"
   ]
  },
  {
   "cell_type": "code",
   "execution_count": 14,
   "id": "48baafc4",
   "metadata": {},
   "outputs": [],
   "source": [
    "# %load_ext nb_black\n",
    "# réglé par défaut à 120 caractères par colonne"
   ]
  },
  {
   "cell_type": "code",
   "execution_count": 37,
   "id": "21aab431",
   "metadata": {},
   "outputs": [],
   "source": [
    "df_flights = (\n",
    "    pd.read_csv(\"flights_eurocontrol.csv\")\n",
    "    .rename(columns={\"Actual Distance Flown (nm)\": \"Distance_nm\"})\n",
    "    .eval(\"Distance_km= Distance_nm*1.852\")\n",
    ")\n",
    "\n",
    "df_eurocontrol = df_flights.query(\n",
    "    '(ADEP.str.startswith(\"E\") | ADEP.str.startswith(\"L\")) & (ADES.str.startswith(\"E\") | ADES.str.startswith(\"L\"))',engine='python'\n",
    ")"
   ]
  },
  {
   "cell_type": "markdown",
   "id": "15f246aa",
   "metadata": {},
   "source": [
    "### List of the intern flights"
   ]
  },
  {
   "cell_type": "code",
   "execution_count": 39,
   "id": "0cb3803f",
   "metadata": {},
   "outputs": [
    {
     "data": {
      "text/html": [
       "<div>\n",
       "<style scoped>\n",
       "    .dataframe tbody tr th:only-of-type {\n",
       "        vertical-align: middle;\n",
       "    }\n",
       "\n",
       "    .dataframe tbody tr th {\n",
       "        vertical-align: top;\n",
       "    }\n",
       "\n",
       "    .dataframe thead th {\n",
       "        text-align: right;\n",
       "    }\n",
       "</style>\n",
       "<table border=\"1\" class=\"dataframe\">\n",
       "  <thead>\n",
       "    <tr style=\"text-align: right;\">\n",
       "      <th></th>\n",
       "      <th>ECTRL ID</th>\n",
       "      <th>ADEP</th>\n",
       "      <th>ADEP Latitude</th>\n",
       "      <th>ADEP Longitude</th>\n",
       "      <th>ADES</th>\n",
       "      <th>ADES Latitude</th>\n",
       "      <th>ADES Longitude</th>\n",
       "      <th>AC Type</th>\n",
       "      <th>ICAO Flight Type</th>\n",
       "      <th>STATFOR Market Segment</th>\n",
       "      <th>Requested FL</th>\n",
       "      <th>Distance_nm</th>\n",
       "      <th>Distance_km</th>\n",
       "    </tr>\n",
       "  </thead>\n",
       "  <tbody>\n",
       "    <tr>\n",
       "      <th>0</th>\n",
       "      <td>242070088</td>\n",
       "      <td>EDDP</td>\n",
       "      <td>51.42389</td>\n",
       "      <td>12.23639</td>\n",
       "      <td>EGMC</td>\n",
       "      <td>51.57028</td>\n",
       "      <td>0.69333</td>\n",
       "      <td>B734</td>\n",
       "      <td>S</td>\n",
       "      <td>All-Cargo</td>\n",
       "      <td>320.0</td>\n",
       "      <td>435</td>\n",
       "      <td>805.620</td>\n",
       "    </tr>\n",
       "    <tr>\n",
       "      <th>1</th>\n",
       "      <td>242072146</td>\n",
       "      <td>EDDK</td>\n",
       "      <td>50.86583</td>\n",
       "      <td>7.14278</td>\n",
       "      <td>LFLL</td>\n",
       "      <td>45.72556</td>\n",
       "      <td>5.08111</td>\n",
       "      <td>B734</td>\n",
       "      <td>S</td>\n",
       "      <td>All-Cargo</td>\n",
       "      <td>240.0</td>\n",
       "      <td>350</td>\n",
       "      <td>648.200</td>\n",
       "    </tr>\n",
       "    <tr>\n",
       "      <th>2</th>\n",
       "      <td>242074255</td>\n",
       "      <td>EPKT</td>\n",
       "      <td>50.47417</td>\n",
       "      <td>19.08000</td>\n",
       "      <td>EDDK</td>\n",
       "      <td>50.86583</td>\n",
       "      <td>7.14278</td>\n",
       "      <td>B734</td>\n",
       "      <td>S</td>\n",
       "      <td>All-Cargo</td>\n",
       "      <td>280.0</td>\n",
       "      <td>481</td>\n",
       "      <td>890.812</td>\n",
       "    </tr>\n",
       "    <tr>\n",
       "      <th>4</th>\n",
       "      <td>242075583</td>\n",
       "      <td>EDDV</td>\n",
       "      <td>52.46028</td>\n",
       "      <td>9.68361</td>\n",
       "      <td>EGNX</td>\n",
       "      <td>52.83111</td>\n",
       "      <td>-1.32778</td>\n",
       "      <td>B734</td>\n",
       "      <td>S</td>\n",
       "      <td>All-Cargo</td>\n",
       "      <td>340.0</td>\n",
       "      <td>416</td>\n",
       "      <td>770.432</td>\n",
       "    </tr>\n",
       "    <tr>\n",
       "      <th>5</th>\n",
       "      <td>242076646</td>\n",
       "      <td>EGTE</td>\n",
       "      <td>50.73417</td>\n",
       "      <td>-3.41389</td>\n",
       "      <td>EGNX</td>\n",
       "      <td>52.83111</td>\n",
       "      <td>-1.32778</td>\n",
       "      <td>B734</td>\n",
       "      <td>S</td>\n",
       "      <td>All-Cargo</td>\n",
       "      <td>210.0</td>\n",
       "      <td>169</td>\n",
       "      <td>312.988</td>\n",
       "    </tr>\n",
       "  </tbody>\n",
       "</table>\n",
       "</div>"
      ],
      "text/plain": [
       "    ECTRL ID  ADEP  ADEP Latitude  ADEP Longitude  ADES  ADES Latitude  \\\n",
       "0  242070088  EDDP       51.42389        12.23639  EGMC       51.57028   \n",
       "1  242072146  EDDK       50.86583         7.14278  LFLL       45.72556   \n",
       "2  242074255  EPKT       50.47417        19.08000  EDDK       50.86583   \n",
       "4  242075583  EDDV       52.46028         9.68361  EGNX       52.83111   \n",
       "5  242076646  EGTE       50.73417        -3.41389  EGNX       52.83111   \n",
       "\n",
       "   ADES Longitude AC Type ICAO Flight Type STATFOR Market Segment  \\\n",
       "0         0.69333    B734                S              All-Cargo   \n",
       "1         5.08111    B734                S              All-Cargo   \n",
       "2         7.14278    B734                S              All-Cargo   \n",
       "4        -1.32778    B734                S              All-Cargo   \n",
       "5        -1.32778    B734                S              All-Cargo   \n",
       "\n",
       "   Requested FL  Distance_nm  Distance_km  \n",
       "0         320.0          435      805.620  \n",
       "1         240.0          350      648.200  \n",
       "2         280.0          481      890.812  \n",
       "4         340.0          416      770.432  \n",
       "5         210.0          169      312.988  "
      ]
     },
     "execution_count": 39,
     "metadata": {},
     "output_type": "execute_result"
    }
   ],
   "source": [
    "df_flights = (\n",
    "    pd.read_csv(\"flights_eurocontrol.csv\")\n",
    "    .rename(columns={\"Actual Distance Flown (nm)\": \"Distance_nm\"})\n",
    "    .eval(\"Distance_km= Distance_nm*1.852\")\n",
    ")\n",
    "\n",
    "\n",
    "df_eurocontrol = df_flights.query(\n",
    "    '(ADEP.str.startswith(\"E\") | ADEP.str.startswith(\"L\")) & (ADES.str.startswith(\"E\") | ADES.str.startswith(\"L\"))', engine='python'\n",
    ").drop(\n",
    "    columns=[\n",
    "        \"FILED OFF BLOCK TIME\",\n",
    "        \"FILED ARRIVAL TIME\",\n",
    "        \"ACTUAL OFF BLOCK TIME\",\n",
    "        \"ACTUAL ARRIVAL TIME\",\n",
    "        \"AC Operator\",\n",
    "        \"AC Registration\",\n",
    "    ]\n",
    ")\n",
    "\n",
    "df_eurocontrol.head()"
   ]
  },
  {
   "cell_type": "code",
   "execution_count": 27,
   "id": "eada04df",
   "metadata": {},
   "outputs": [
    {
     "data": {
      "text/plain": [
       "ECTRL ID                  210\n",
       "ADEP                      210\n",
       "ADEP Latitude             210\n",
       "ADEP Longitude            210\n",
       "ADES                      210\n",
       "ADES Latitude             210\n",
       "ADES Longitude            210\n",
       "ICAO Flight Type          210\n",
       "STATFOR Market Segment    210\n",
       "Requested FL              210\n",
       "Distance_nm               210\n",
       "Distance_km               210\n",
       "dtype: int64"
      ]
     },
     "execution_count": 27,
     "metadata": {},
     "output_type": "execute_result"
    }
   ],
   "source": [
    "df_eurocontrol.query(\"ADEP == 'EDDP' & ADES == 'EGNX'\").groupby(\"AC Type\").count().sum()"
   ]
  },
  {
   "cell_type": "code",
   "execution_count": 28,
   "id": "aff2ccd1",
   "metadata": {},
   "outputs": [
    {
     "data": {
      "text/plain": [
       "array(['All-Cargo', 'Lowcost', 'Mainline', 'Business Aviation',\n",
       "       'Regional Aircraft', 'Charter', 'Other Types'], dtype=object)"
      ]
     },
     "execution_count": 28,
     "metadata": {},
     "output_type": "execute_result"
    }
   ],
   "source": [
    "df_eurocontrol[\"STATFOR Market Segment\"].unique()"
   ]
  },
  {
   "cell_type": "code",
   "execution_count": 29,
   "id": "05556f4e",
   "metadata": {},
   "outputs": [
    {
     "data": {
      "text/plain": [
       "array(['S', 'N'], dtype=object)"
      ]
     },
     "execution_count": 29,
     "metadata": {},
     "output_type": "execute_result"
    }
   ],
   "source": [
    "df_eurocontrol[\"ICAO Flight Type\"].unique()"
   ]
  },
  {
   "cell_type": "markdown",
   "id": "70de202b",
   "metadata": {},
   "source": [
    "### List of the existing airports"
   ]
  },
  {
   "cell_type": "code",
   "execution_count": 34,
   "id": "2d580240",
   "metadata": {},
   "outputs": [
    {
     "data": {
      "text/html": [
       "<div>\n",
       "<style scoped>\n",
       "    .dataframe tbody tr th:only-of-type {\n",
       "        vertical-align: middle;\n",
       "    }\n",
       "\n",
       "    .dataframe tbody tr th {\n",
       "        vertical-align: top;\n",
       "    }\n",
       "\n",
       "    .dataframe thead th {\n",
       "        text-align: right;\n",
       "    }\n",
       "</style>\n",
       "<table border=\"1\" class=\"dataframe\">\n",
       "  <thead>\n",
       "    <tr style=\"text-align: right;\">\n",
       "      <th></th>\n",
       "      <th>name</th>\n",
       "      <th>iata</th>\n",
       "      <th>icao</th>\n",
       "      <th>latitude</th>\n",
       "      <th>longitude</th>\n",
       "      <th>country</th>\n",
       "      <th>altitude</th>\n",
       "      <th>type</th>\n",
       "      <th>municipality</th>\n",
       "    </tr>\n",
       "  </thead>\n",
       "  <tbody>\n",
       "    <tr>\n",
       "      <th>0</th>\n",
       "      <td>Honiara International Airport</td>\n",
       "      <td>HIR</td>\n",
       "      <td>AGGH</td>\n",
       "      <td>-9.428000</td>\n",
       "      <td>160.054993</td>\n",
       "      <td>Solomon Islands</td>\n",
       "      <td>28.0</td>\n",
       "      <td>large_airport</td>\n",
       "      <td>Honiara</td>\n",
       "    </tr>\n",
       "    <tr>\n",
       "      <th>1</th>\n",
       "      <td>Munda Airport</td>\n",
       "      <td>MUA</td>\n",
       "      <td>AGGM</td>\n",
       "      <td>-8.327970</td>\n",
       "      <td>157.263000</td>\n",
       "      <td>Solomon Islands</td>\n",
       "      <td>10.0</td>\n",
       "      <td>medium_airport</td>\n",
       "      <td>Munda</td>\n",
       "    </tr>\n",
       "    <tr>\n",
       "      <th>2</th>\n",
       "      <td>Nauru International Airport</td>\n",
       "      <td>INU</td>\n",
       "      <td>ANYN</td>\n",
       "      <td>-0.547458</td>\n",
       "      <td>166.919006</td>\n",
       "      <td>Nauru</td>\n",
       "      <td>22.0</td>\n",
       "      <td>medium_airport</td>\n",
       "      <td>Yaren District</td>\n",
       "    </tr>\n",
       "  </tbody>\n",
       "</table>\n",
       "</div>"
      ],
      "text/plain": [
       "                            name iata  icao  latitude   longitude  \\\n",
       "0  Honiara International Airport  HIR  AGGH -9.428000  160.054993   \n",
       "1                  Munda Airport  MUA  AGGM -8.327970  157.263000   \n",
       "2    Nauru International Airport  INU  ANYN -0.547458  166.919006   \n",
       "\n",
       "           country  altitude            type    municipality  \n",
       "0  Solomon Islands      28.0   large_airport         Honiara  \n",
       "1  Solomon Islands      10.0  medium_airport           Munda  \n",
       "2            Nauru      22.0  medium_airport  Yaren District  "
      ]
     },
     "execution_count": 34,
     "metadata": {},
     "output_type": "execute_result"
    }
   ],
   "source": [
    "df_airports = pd.read_csv(\"airports.csv\")\n",
    "df_airports.head(3)"
   ]
  },
  {
   "cell_type": "code",
   "execution_count": 52,
   "id": "bfe0a924",
   "metadata": {},
   "outputs": [
    {
     "data": {
      "text/plain": [
       "(4407, 9)"
      ]
     },
     "execution_count": 52,
     "metadata": {},
     "output_type": "execute_result"
    }
   ],
   "source": [
    "df_airports.shape"
   ]
  },
  {
   "cell_type": "code",
   "execution_count": 51,
   "metadata": {},
   "outputs": [
    {
     "data": {
      "text/html": [
       "<div>\n",
       "<style scoped>\n",
       "    .dataframe tbody tr th:only-of-type {\n",
       "        vertical-align: middle;\n",
       "    }\n",
       "\n",
       "    .dataframe tbody tr th {\n",
       "        vertical-align: top;\n",
       "    }\n",
       "\n",
       "    .dataframe thead th {\n",
       "        text-align: right;\n",
       "    }\n",
       "</style>\n",
       "<table border=\"1\" class=\"dataframe\">\n",
       "  <thead>\n",
       "    <tr style=\"text-align: right;\">\n",
       "      <th></th>\n",
       "      <th>name</th>\n",
       "      <th>iata</th>\n",
       "      <th>icao</th>\n",
       "      <th>latitude</th>\n",
       "      <th>longitude</th>\n",
       "      <th>country</th>\n",
       "      <th>altitude</th>\n",
       "      <th>type</th>\n",
       "      <th>municipality</th>\n",
       "    </tr>\n",
       "  </thead>\n",
       "  <tbody>\n",
       "    <tr>\n",
       "      <th>2175</th>\n",
       "      <td>Arad International Airport</td>\n",
       "      <td>ARW</td>\n",
       "      <td>LRAR</td>\n",
       "      <td>46.176601</td>\n",
       "      <td>21.261999</td>\n",
       "      <td>Romania</td>\n",
       "      <td>352.0</td>\n",
       "      <td>medium_airport</td>\n",
       "      <td>Arad</td>\n",
       "    </tr>\n",
       "    <tr>\n",
       "      <th>2176</th>\n",
       "      <td>Bacău Airport</td>\n",
       "      <td>BCM</td>\n",
       "      <td>LRBC</td>\n",
       "      <td>46.521900</td>\n",
       "      <td>26.910299</td>\n",
       "      <td>Romania</td>\n",
       "      <td>607.0</td>\n",
       "      <td>medium_airport</td>\n",
       "      <td>Bacău</td>\n",
       "    </tr>\n",
       "    <tr>\n",
       "      <th>2177</th>\n",
       "      <td>Maramureș International Airport</td>\n",
       "      <td>BAY</td>\n",
       "      <td>LRBM</td>\n",
       "      <td>47.660598</td>\n",
       "      <td>23.467252</td>\n",
       "      <td>Romania</td>\n",
       "      <td>605.0</td>\n",
       "      <td>medium_airport</td>\n",
       "      <td>Baia Mare</td>\n",
       "    </tr>\n",
       "    <tr>\n",
       "      <th>2178</th>\n",
       "      <td>Băneasa International Airport</td>\n",
       "      <td>BBU</td>\n",
       "      <td>LRBS</td>\n",
       "      <td>44.503201</td>\n",
       "      <td>26.102100</td>\n",
       "      <td>Romania</td>\n",
       "      <td>297.0</td>\n",
       "      <td>medium_airport</td>\n",
       "      <td>Bucharest</td>\n",
       "    </tr>\n",
       "    <tr>\n",
       "      <th>2179</th>\n",
       "      <td>Mihail Kogălniceanu International Airport</td>\n",
       "      <td>CND</td>\n",
       "      <td>LRCK</td>\n",
       "      <td>44.362202</td>\n",
       "      <td>28.488300</td>\n",
       "      <td>Romania</td>\n",
       "      <td>353.0</td>\n",
       "      <td>medium_airport</td>\n",
       "      <td>Constanţa</td>\n",
       "    </tr>\n",
       "    <tr>\n",
       "      <th>2180</th>\n",
       "      <td>Cluj-Napoca International Airport</td>\n",
       "      <td>CLJ</td>\n",
       "      <td>LRCL</td>\n",
       "      <td>46.785198</td>\n",
       "      <td>23.686199</td>\n",
       "      <td>Romania</td>\n",
       "      <td>1039.0</td>\n",
       "      <td>medium_airport</td>\n",
       "      <td>Cluj-Napoca</td>\n",
       "    </tr>\n",
       "    <tr>\n",
       "      <th>2181</th>\n",
       "      <td>Caransebeş Airport</td>\n",
       "      <td>CSB</td>\n",
       "      <td>LRCS</td>\n",
       "      <td>45.419998</td>\n",
       "      <td>22.253300</td>\n",
       "      <td>Romania</td>\n",
       "      <td>866.0</td>\n",
       "      <td>medium_airport</td>\n",
       "      <td>Caransebeş</td>\n",
       "    </tr>\n",
       "    <tr>\n",
       "      <th>2182</th>\n",
       "      <td>Craiova Airport</td>\n",
       "      <td>CRA</td>\n",
       "      <td>LRCV</td>\n",
       "      <td>44.318100</td>\n",
       "      <td>23.888599</td>\n",
       "      <td>Romania</td>\n",
       "      <td>626.0</td>\n",
       "      <td>medium_airport</td>\n",
       "      <td>Craiova</td>\n",
       "    </tr>\n",
       "    <tr>\n",
       "      <th>2183</th>\n",
       "      <td>Iaşi Airport</td>\n",
       "      <td>IAS</td>\n",
       "      <td>LRIA</td>\n",
       "      <td>47.180278</td>\n",
       "      <td>27.620833</td>\n",
       "      <td>Romania</td>\n",
       "      <td>411.0</td>\n",
       "      <td>medium_airport</td>\n",
       "      <td>Iaşi</td>\n",
       "    </tr>\n",
       "    <tr>\n",
       "      <th>2184</th>\n",
       "      <td>Oradea International Airport</td>\n",
       "      <td>OMR</td>\n",
       "      <td>LROD</td>\n",
       "      <td>47.025299</td>\n",
       "      <td>21.902500</td>\n",
       "      <td>Romania</td>\n",
       "      <td>465.0</td>\n",
       "      <td>medium_airport</td>\n",
       "      <td>Oradea</td>\n",
       "    </tr>\n",
       "    <tr>\n",
       "      <th>2185</th>\n",
       "      <td>Henri Coandă International Airport</td>\n",
       "      <td>OTP</td>\n",
       "      <td>LROP</td>\n",
       "      <td>44.571111</td>\n",
       "      <td>26.085000</td>\n",
       "      <td>Romania</td>\n",
       "      <td>314.0</td>\n",
       "      <td>large_airport</td>\n",
       "      <td>Bucharest</td>\n",
       "    </tr>\n",
       "    <tr>\n",
       "      <th>2186</th>\n",
       "      <td>Sibiu International Airport</td>\n",
       "      <td>SBZ</td>\n",
       "      <td>LRSB</td>\n",
       "      <td>45.785599</td>\n",
       "      <td>24.091299</td>\n",
       "      <td>Romania</td>\n",
       "      <td>1496.0</td>\n",
       "      <td>medium_airport</td>\n",
       "      <td>Sibiu</td>\n",
       "    </tr>\n",
       "    <tr>\n",
       "      <th>2187</th>\n",
       "      <td>Satu Mare Airport</td>\n",
       "      <td>SUJ</td>\n",
       "      <td>LRSM</td>\n",
       "      <td>47.703300</td>\n",
       "      <td>22.885700</td>\n",
       "      <td>Romania</td>\n",
       "      <td>405.0</td>\n",
       "      <td>medium_airport</td>\n",
       "      <td>Satu Mare</td>\n",
       "    </tr>\n",
       "    <tr>\n",
       "      <th>2188</th>\n",
       "      <td>Suceava Stefan cel Mare Airport</td>\n",
       "      <td>SCV</td>\n",
       "      <td>LRSV</td>\n",
       "      <td>47.687500</td>\n",
       "      <td>26.354099</td>\n",
       "      <td>Romania</td>\n",
       "      <td>1375.0</td>\n",
       "      <td>medium_airport</td>\n",
       "      <td>Suceava</td>\n",
       "    </tr>\n",
       "    <tr>\n",
       "      <th>2189</th>\n",
       "      <td>Tulcea Danube Delta Airport</td>\n",
       "      <td>TCE</td>\n",
       "      <td>LRTC</td>\n",
       "      <td>45.062500</td>\n",
       "      <td>28.714300</td>\n",
       "      <td>Romania</td>\n",
       "      <td>200.0</td>\n",
       "      <td>medium_airport</td>\n",
       "      <td>Tulcea</td>\n",
       "    </tr>\n",
       "    <tr>\n",
       "      <th>2190</th>\n",
       "      <td>Transilvania Târgu Mureş International Airport</td>\n",
       "      <td>TGM</td>\n",
       "      <td>LRTM</td>\n",
       "      <td>46.467701</td>\n",
       "      <td>24.412500</td>\n",
       "      <td>Romania</td>\n",
       "      <td>963.0</td>\n",
       "      <td>medium_airport</td>\n",
       "      <td>Târgu Mureş</td>\n",
       "    </tr>\n",
       "    <tr>\n",
       "      <th>2191</th>\n",
       "      <td>Timişoara Traian Vuia Airport</td>\n",
       "      <td>TSR</td>\n",
   "cell_type": "markdown",
   "id": "39338daf",
   "metadata": {},
   "source": []
  },
  {
   "cell_type": "code",
   "execution_count": 118,
   "id": "43b8cfa6",
   "metadata": {},
   "outputs": [
    {
     "name": "stdout",
     "output_type": "stream",
     "text": [
      "A140\n"
     ]
    },
    {
     "ename": "HTTPError",
     "evalue": "HTTP Error 403: Forbidden",
     "output_type": "error",
     "traceback": [
      "\u001b[1;31m---------------------------------------------------------------------------\u001b[0m",
      "\u001b[1;31mHTTPError\u001b[0m                                 Traceback (most recent call last)",
      "\u001b[1;32m<ipython-input-118-d782dffa3027>\u001b[0m in \u001b[0;36m<module>\u001b[1;34m\u001b[0m\n\u001b[0;32m     13\u001b[0m \u001b[1;32mfor\u001b[0m \u001b[0micao\u001b[0m \u001b[1;32min\u001b[0m \u001b[0mdf_coeff\u001b[0m\u001b[1;33m.\u001b[0m\u001b[0mac_code_icao\u001b[0m\u001b[1;33m:\u001b[0m\u001b[1;33m\u001b[0m\u001b[1;33m\u001b[0m\u001b[0m\n\u001b[0;32m     14\u001b[0m     \u001b[0mprint\u001b[0m\u001b[1;33m(\u001b[0m\u001b[0micao\u001b[0m\u001b[1;33m)\u001b[0m\u001b[1;33m\u001b[0m\u001b[1;33m\u001b[0m\u001b[0m\n\u001b[1;32m---> 15\u001b[1;33m     \u001b[0mdata\u001b[0m \u001b[1;33m=\u001b[0m \u001b[0mget_capacity\u001b[0m\u001b[1;33m(\u001b[0m\u001b[0micao\u001b[0m\u001b[1;33m)\u001b[0m\u001b[1;33m\u001b[0m\u001b[1;33m\u001b[0m\u001b[0m\n\u001b[0m\u001b[0;32m     16\u001b[0m     \u001b[0mprint\u001b[0m\u001b[1;33m(\u001b[0m\u001b[0mdata\u001b[0m\u001b[1;33m)\u001b[0m\u001b[1;33m\u001b[0m\u001b[1;33m\u001b[0m\u001b[0m\n\u001b[0;32m     17\u001b[0m \u001b[1;33m\u001b[0m\u001b[0m\n",
      "\u001b[1;32m<ipython-input-118-d782dffa3027>\u001b[0m in \u001b[0;36mget_capacity\u001b[1;34m(icao)\u001b[0m\n\u001b[0;32m      5\u001b[0m \u001b[1;32mdef\u001b[0m \u001b[0mget_capacity\u001b[0m\u001b[1;33m(\u001b[0m\u001b[0micao\u001b[0m\u001b[1;33m)\u001b[0m\u001b[1;33m:\u001b[0m\u001b[1;33m\u001b[0m\u001b[1;33m\u001b[0m\u001b[0m\n\u001b[0;32m      6\u001b[0m      \u001b[0murl\u001b[0m \u001b[1;33m=\u001b[0m \u001b[1;34m'https://doc8643.com/aircraft/'\u001b[0m \u001b[1;33m+\u001b[0m \u001b[0micao\u001b[0m\u001b[1;33m\u001b[0m\u001b[1;33m\u001b[0m\u001b[0m\n\u001b[1;32m----> 7\u001b[1;33m      \u001b[0mwebUrl\u001b[0m \u001b[1;33m=\u001b[0m \u001b[0murllib2\u001b[0m\u001b[1;33m.\u001b[0m\u001b[0murlopen\u001b[0m\u001b[1;33m(\u001b[0m\u001b[0murl\u001b[0m\u001b[1;33m)\u001b[0m\u001b[1;33m\u001b[0m\u001b[1;33m\u001b[0m\u001b[0m\n\u001b[0m\u001b[0;32m      8\u001b[0m      \u001b[1;31m#print(\"result code: \" + str(webUrl.getcode()))\u001b[0m\u001b[1;33m\u001b[0m\u001b[1;33m\u001b[0m\u001b[1;33m\u001b[0m\u001b[0m\n\u001b[0;32m      9\u001b[0m      \u001b[0mdata\u001b[0m \u001b[1;33m=\u001b[0m \u001b[0mwebUrl\u001b[0m\u001b[1;33m.\u001b[0m\u001b[0mread\u001b[0m\u001b[1;33m(\u001b[0m\u001b[1;33m)\u001b[0m\u001b[1;33m\u001b[0m\u001b[1;33m\u001b[0m\u001b[0m\n",
      "\u001b[1;32mc:\\Users\\mathi\\anaconda3\\lib\\urllib\\request.py\u001b[0m in \u001b[0;36murlopen\u001b[1;34m(url, data, timeout, cafile, capath, cadefault, context)\u001b[0m\n\u001b[0;32m    220\u001b[0m     \u001b[1;32melse\u001b[0m\u001b[1;33m:\u001b[0m\u001b[1;33m\u001b[0m\u001b[1;33m\u001b[0m\u001b[0m\n\u001b[0;32m    221\u001b[0m         \u001b[0mopener\u001b[0m \u001b[1;33m=\u001b[0m \u001b[0m_opener\u001b[0m\u001b[1;33m\u001b[0m\u001b[1;33m\u001b[0m\u001b[0m\n\u001b[1;32m--> 222\u001b[1;33m     \u001b[1;32mreturn\u001b[0m \u001b[0mopener\u001b[0m\u001b[1;33m.\u001b[0m\u001b[0mopen\u001b[0m\u001b[1;33m(\u001b[0m\u001b[0murl\u001b[0m\u001b[1;33m,\u001b[0m \u001b[0mdata\u001b[0m\u001b[1;33m,\u001b[0m \u001b[0mtimeout\u001b[0m\u001b[1;33m)\u001b[0m\u001b[1;33m\u001b[0m\u001b[1;33m\u001b[0m\u001b[0m\n\u001b[0m\u001b[0;32m    223\u001b[0m \u001b[1;33m\u001b[0m\u001b[0m\n\u001b[0;32m    224\u001b[0m \u001b[1;32mdef\u001b[0m \u001b[0minstall_opener\u001b[0m\u001b[1;33m(\u001b[0m\u001b[0mopener\u001b[0m\u001b[1;33m)\u001b[0m\u001b[1;33m:\u001b[0m\u001b[1;33m\u001b[0m\u001b[1;33m\u001b[0m\u001b[0m\n",
      "\u001b[1;32mc:\\Users\\mathi\\anaconda3\\lib\\urllib\\request.py\u001b[0m in \u001b[0;36mopen\u001b[1;34m(self, fullurl, data, timeout)\u001b[0m\n\u001b[0;32m    529\u001b[0m         \u001b[1;32mfor\u001b[0m \u001b[0mprocessor\u001b[0m \u001b[1;32min\u001b[0m \u001b[0mself\u001b[0m\u001b[1;33m.\u001b[0m\u001b[0mprocess_response\u001b[0m\u001b[1;33m.\u001b[0m\u001b[0mget\u001b[0m\u001b[1;33m(\u001b[0m\u001b[0mprotocol\u001b[0m\u001b[1;33m,\u001b[0m \u001b[1;33m[\u001b[0m\u001b[1;33m]\u001b[0m\u001b[1;33m)\u001b[0m\u001b[1;33m:\u001b[0m\u001b[1;33m\u001b[0m\u001b[1;33m\u001b[0m\u001b[0m\n\u001b[0;32m    530\u001b[0m             \u001b[0mmeth\u001b[0m \u001b[1;33m=\u001b[0m \u001b[0mgetattr\u001b[0m\u001b[1;33m(\u001b[0m\u001b[0mprocessor\u001b[0m\u001b[1;33m,\u001b[0m \u001b[0mmeth_name\u001b[0m\u001b[1;33m)\u001b[0m\u001b[1;33m\u001b[0m\u001b[1;33m\u001b[0m\u001b[0m\n\u001b[1;32m--> 531\u001b[1;33m             \u001b[0mresponse\u001b[0m \u001b[1;33m=\u001b[0m \u001b[0mmeth\u001b[0m\u001b[1;33m(\u001b[0m\u001b[0mreq\u001b[0m\u001b[1;33m,\u001b[0m \u001b[0mresponse\u001b[0m\u001b[1;33m)\u001b[0m\u001b[1;33m\u001b[0m\u001b[1;33m\u001b[0m\u001b[0m\n\u001b[0m\u001b[0;32m    532\u001b[0m \u001b[1;33m\u001b[0m\u001b[0m\n\u001b[0;32m    533\u001b[0m         \u001b[1;32mreturn\u001b[0m \u001b[0mresponse\u001b[0m\u001b[1;33m\u001b[0m\u001b[1;33m\u001b[0m\u001b[0m\n",
      "\u001b[1;32mc:\\Users\\mathi\\anaconda3\\lib\\urllib\\request.py\u001b[0m in \u001b[0;36mhttp_response\u001b[1;34m(self, request, response)\u001b[0m\n\u001b[0;32m    638\u001b[0m         \u001b[1;31m# request was successfully received, understood, and accepted.\u001b[0m\u001b[1;33m\u001b[0m\u001b[1;33m\u001b[0m\u001b[1;33m\u001b[0m\u001b[0m\n\u001b[0;32m    639\u001b[0m         \u001b[1;32mif\u001b[0m \u001b[1;32mnot\u001b[0m \u001b[1;33m(\u001b[0m\u001b[1;36m200\u001b[0m \u001b[1;33m<=\u001b[0m \u001b[0mcode\u001b[0m \u001b[1;33m<\u001b[0m \u001b[1;36m300\u001b[0m\u001b[1;33m)\u001b[0m\u001b[1;33m:\u001b[0m\u001b[1;33m\u001b[0m\u001b[1;33m\u001b[0m\u001b[0m\n\u001b[1;32m--> 640\u001b[1;33m             response = self.parent.error(\n\u001b[0m\u001b[0;32m    641\u001b[0m                 'http', request, response, code, msg, hdrs)\n\u001b[0;32m    642\u001b[0m \u001b[1;33m\u001b[0m\u001b[0m\n",
      "\u001b[1;32mc:\\Users\\mathi\\anaconda3\\lib\\urllib\\request.py\u001b[0m in \u001b[0;36merror\u001b[1;34m(self, proto, *args)\u001b[0m\n\u001b[0;32m    567\u001b[0m         \u001b[1;32mif\u001b[0m \u001b[0mhttp_err\u001b[0m\u001b[1;33m:\u001b[0m\u001b[1;33m\u001b[0m\u001b[1;33m\u001b[0m\u001b[0m\n\u001b[0;32m    568\u001b[0m             \u001b[0margs\u001b[0m \u001b[1;33m=\u001b[0m \u001b[1;33m(\u001b[0m\u001b[0mdict\u001b[0m\u001b[1;33m,\u001b[0m \u001b[1;34m'default'\u001b[0m\u001b[1;33m,\u001b[0m \u001b[1;34m'http_error_default'\u001b[0m\u001b[1;33m)\u001b[0m \u001b[1;33m+\u001b[0m \u001b[0morig_args\u001b[0m\u001b[1;33m\u001b[0m\u001b[1;33m\u001b[0m\u001b[0m\n\u001b[1;32m--> 569\u001b[1;33m             \u001b[1;32mreturn\u001b[0m \u001b[0mself\u001b[0m\u001b[1;33m.\u001b[0m\u001b[0m_call_chain\u001b[0m\u001b[1;33m(\u001b[0m\u001b[1;33m*\u001b[0m\u001b[0margs\u001b[0m\u001b[1;33m)\u001b[0m\u001b[1;33m\u001b[0m\u001b[1;33m\u001b[0m\u001b[0m\n\u001b[0m\u001b[0;32m    570\u001b[0m \u001b[1;33m\u001b[0m\u001b[0m\n\u001b[0;32m    571\u001b[0m \u001b[1;31m# XXX probably also want an abstract factory that knows when it makes\u001b[0m\u001b[1;33m\u001b[0m\u001b[1;33m\u001b[0m\u001b[1;33m\u001b[0m\u001b[0m\n",
      "\u001b[1;32mc:\\Users\\mathi\\anaconda3\\lib\\urllib\\request.py\u001b[0m in \u001b[0;36m_call_chain\u001b[1;34m(self, chain, kind, meth_name, *args)\u001b[0m\n\u001b[0;32m    500\u001b[0m         \u001b[1;32mfor\u001b[0m \u001b[0mhandler\u001b[0m \u001b[1;32min\u001b[0m \u001b[0mhandlers\u001b[0m\u001b[1;33m:\u001b[0m\u001b[1;33m\u001b[0m\u001b[1;33m\u001b[0m\u001b[0m\n\u001b[0;32m    501\u001b[0m             \u001b[0mfunc\u001b[0m \u001b[1;33m=\u001b[0m \u001b[0mgetattr\u001b[0m\u001b[1;33m(\u001b[0m\u001b[0mhandler\u001b[0m\u001b[1;33m,\u001b[0m \u001b[0mmeth_name\u001b[0m\u001b[1;33m)\u001b[0m\u001b[1;33m\u001b[0m\u001b[1;33m\u001b[0m\u001b[0m\n\u001b[1;32m--> 502\u001b[1;33m             \u001b[0mresult\u001b[0m \u001b[1;33m=\u001b[0m \u001b[0mfunc\u001b[0m\u001b[1;33m(\u001b[0m\u001b[1;33m*\u001b[0m\u001b[0margs\u001b[0m\u001b[1;33m)\u001b[0m\u001b[1;33m\u001b[0m\u001b[1;33m\u001b[0m\u001b[0m\n\u001b[0m\u001b[0;32m    503\u001b[0m             \u001b[1;32mif\u001b[0m \u001b[0mresult\u001b[0m \u001b[1;32mis\u001b[0m \u001b[1;32mnot\u001b[0m \u001b[1;32mNone\u001b[0m\u001b[1;33m:\u001b[0m\u001b[1;33m\u001b[0m\u001b[1;33m\u001b[0m\u001b[0m\n\u001b[0;32m    504\u001b[0m                 \u001b[1;32mreturn\u001b[0m \u001b[0mresult\u001b[0m\u001b[1;33m\u001b[0m\u001b[1;33m\u001b[0m\u001b[0m\n",
      "\u001b[1;32mc:\\Users\\mathi\\anaconda3\\lib\\urllib\\request.py\u001b[0m in \u001b[0;36mhttp_error_default\u001b[1;34m(self, req, fp, code, msg, hdrs)\u001b[0m\n\u001b[0;32m    647\u001b[0m \u001b[1;32mclass\u001b[0m \u001b[0mHTTPDefaultErrorHandler\u001b[0m\u001b[1;33m(\u001b[0m\u001b[0mBaseHandler\u001b[0m\u001b[1;33m)\u001b[0m\u001b[1;33m:\u001b[0m\u001b[1;33m\u001b[0m\u001b[1;33m\u001b[0m\u001b[0m\n\u001b[0;32m    648\u001b[0m     \u001b[1;32mdef\u001b[0m \u001b[0mhttp_error_default\u001b[0m\u001b[1;33m(\u001b[0m\u001b[0mself\u001b[0m\u001b[1;33m,\u001b[0m \u001b[0mreq\u001b[0m\u001b[1;33m,\u001b[0m \u001b[0mfp\u001b[0m\u001b[1;33m,\u001b[0m \u001b[0mcode\u001b[0m\u001b[1;33m,\u001b[0m \u001b[0mmsg\u001b[0m\u001b[1;33m,\u001b[0m \u001b[0mhdrs\u001b[0m\u001b[1;33m)\u001b[0m\u001b[1;33m:\u001b[0m\u001b[1;33m\u001b[0m\u001b[1;33m\u001b[0m\u001b[0m\n\u001b[1;32m--> 649\u001b[1;33m         \u001b[1;32mraise\u001b[0m \u001b[0mHTTPError\u001b[0m\u001b[1;33m(\u001b[0m\u001b[0mreq\u001b[0m\u001b[1;33m.\u001b[0m\u001b[0mfull_url\u001b[0m\u001b[1;33m,\u001b[0m \u001b[0mcode\u001b[0m\u001b[1;33m,\u001b[0m \u001b[0mmsg\u001b[0m\u001b[1;33m,\u001b[0m \u001b[0mhdrs\u001b[0m\u001b[1;33m,\u001b[0m \u001b[0mfp\u001b[0m\u001b[1;33m)\u001b[0m\u001b[1;33m\u001b[0m\u001b[1;33m\u001b[0m\u001b[0m\n\u001b[0m\u001b[0;32m    650\u001b[0m \u001b[1;33m\u001b[0m\u001b[0m\n\u001b[0;32m    651\u001b[0m \u001b[1;32mclass\u001b[0m \u001b[0mHTTPRedirectHandler\u001b[0m\u001b[1;33m(\u001b[0m\u001b[0mBaseHandler\u001b[0m\u001b[1;33m)\u001b[0m\u001b[1;33m:\u001b[0m\u001b[1;33m\u001b[0m\u001b[1;33m\u001b[0m\u001b[0m\n",
      "\u001b[1;31mHTTPError\u001b[0m: HTTP Error 403: Forbidden"
     ]
    }
   ],
   "source": [
    "import urllib.request as urllib2\n",
    "\n",
    "df_coeff = pd.read_csv(\"feat_coefficients.csv\")\n",
    "\n",
    "def get_capacity(icao):\n",
    "     url = 'https://doc8643.com/aircraft/' + icao\n",
    "     webUrl = urllib2.urlopen(url)\n",
    "     #print(\"result code: \" + str(webUrl.getcode()))\n",
    "     data = webUrl.read()\n",
    "     #place = data.split('Persons On Board')[1].split('div')[2].split('>')[1].split('<')[0]\n",
    "     return data\n",
    "\n",
    "for icao in df_coeff.ac_code_icao:\n",
    "    print(icao)\n",
    "    data = get_capacity(icao)\n",
    "    print(data)\n",
    "    \n",
    "\n",
    "\n"
   ]
  },
  {
   "cell_type": "code",
   "execution_count": null,
   "id": "29662642",
   "metadata": {
    "scrolled": true
   },
   "outputs": [],
   "source": [
    "# Importation of the coefficients and calculus of the fuel consumption\n",
    "df_coeff = pd.read_csv(\"feat_coefficients.csv\")\n",
    "df_data = pd.merge(\n",
    "    df_eurocontrol, df_coeff, left_on=\"AC Type\", right_on=\"ac_code_icao\"\n",
    ").eval(\n",
    "    \"Fuel_consumption_kg= Distance_km**2 * reduced_fuel_a1 + Distance_km *reduced_fuel_a2 + reduced_fuel_intercept\"\n",
    ")"
   ]
  },
  {
   "cell_type": "code",
   "execution_count": null,
   "id": "dbdc6d70",
   "metadata": {},
   "outputs": [],
   "source": [
    "#FE Turboprop pas fou\n",
    "\n",
    "df_emissions = pd.concat(\n",
    "    [\n",
    "        df_data.query(\"e_type == 'Jet'\").eval(\"Emissions = Fuel_consumption_kg*3.16\"),\n",
    "        df_data.query(\"e_type == 'Piston'\").eval(\n",
    "            \"Emissions = Fuel_consumption_kg*3.10\"\n",
    "        ),\n",
    "        df_data.query(\"e_type == 'Turboprop'\").eval(\n",
    "            \"Emissions = Fuel_consumption_kg*3.16\"\n",
    "        )\n",
    "    ]\n",
    ")\n",
    "\n",
    "round(df_emissions[\"Emissions\"].sum() / 1000 / 1000 / 1000 * 12, 2) #MtCO2\n",
    "df_emissions.head()\n",
    "\n"
   ]
  },
  {
   "attachments": {},
   "cell_type": "markdown",
   "id": "1f1a64b6",
   "metadata": {},
   "source": [
    "### Estimer le nombre total de passagers par ligne "
   ]
  },
  {
   "cell_type": "code",
   "execution_count": null,
   "id": "ec23c9f9",
   "metadata": {},
   "outputs": [],
   "source": [
    "planes_eurocontrol = df_eurocontrol[\"AC Type\"].unique()\n",
    "planes_coeff = df_coeff.ac_code_icao.unique()\n",
    "intersection = [x for x in planes_eurocontrol if x in planes_coeff]\n",
    "intersection"
   ]
  },
  {
   "cell_type": "code",
   "execution_count": null,
   "id": "93adda08",
   "metadata": {},
   "outputs": [],
   "source": [
    "compt =0\n",
    "for element in planes_eurocontrol:\n",
    "    if element in planes_coeff:\n",
    "        compt += 1\n",
    "print(len(planes_eurocontrol))\n",
    "print(compt)\n",
    "print(len(planes_eurocontrol) - compt)"
   ]
  },
  {
   "cell_type": "code",
   "execution_count": null,
   "id": "b6df9329",
   "metadata": {},
   "outputs": [],
   "source": [
    "import pandas as pd\n",
    "import yaml\n",
    "\n",
    "with open(\"aircraft/a20n.yml\") as stream:\n",
    "    data = yaml.safe_load(stream)\n",
    "\n",
    "df = pd.DataFrame(data)\n",
    "df\n"
   ]
  },
  {
   "cell_type": "code",
   "execution_count": null,
   "id": "17ca3d66",
   "metadata": {},
   "outputs": [],
   "source": [
    "df_coeff.head(3)"
   ]
  },
  {
   "cell_type": "code",
   "execution_count": null,
   "id": "860d55d3",
   "metadata": {},
   "outputs": [],
   "source": [
    "import yaml\n",
    "\n",
    "with open(r\"aircraft/a20n.yml\") as file:\n",
    "    # The FullLoader parameter handles the conversion from YAML\n",
    "    # scalar values to Python the dictionary format\n",
    "    plane = yaml.load(file, Loader=yaml.FullLoader)\n",
    "\n",
    "plane"
   ]
  },
  {
   "cell_type": "code",
   "execution_count": null,
   "id": "08460d0a",
   "metadata": {},
   "outputs": [],
   "source": []
  },
  {
   "cell_type": "markdown",
   "id": "0b232904",
   "metadata": {},
   "source": [
    "### Estimer les émissions par passager et par avion (pré-traitement)"
   ]
  },
  {
   "cell_type": "code",
   "execution_count": null,
   "id": "f346bf78",
   "metadata": {},
   "outputs": [],
   "source": []
  },
  {
   "cell_type": "markdown",
   "id": "6140be42",
   "metadata": {},
   "source": [
    "##### We test the number of flight that are in Europe"
   ]
  },
  {
   "cell_type": "markdown",
   "id": "857bba99",
   "metadata": {},
   "source": [
    "Utiliser FEAT pour tous les vols\n",
    "OpenAP : plus de degrés de liberté (ex infuence du taux de remplissage, influence de la masse) --> dépend de nos critères d'optimisation. "
   ]
  },
  {
   "attachments": {},
   "cell_type": "markdown",
   "id": "f28797b9",
   "metadata": {},
   "source": [
    "### Équilibre fréquence/capacité\n",
    "\n",
    "Déterminer la fréquence nécessaire pour chaque avion en fonction du nombre de passagers :\n",
    "\n",
    "Pour chaque avion $a$, on définit :\n",
    "\n",
    "fréquence : $f_a = \\frac{n_{vol_a}}{temps}$\n",
    "\n",
    "débit de passagers : $d = \\frac{n_{passagers}}{temps}$\n",
    "\n",
    "capacité de l'avion : $c_a = \\frac{n_{passagers}}{vol}$\n",
    "\n",
    "On a donc $f_a = \\frac{d}{c_a}$, ce qui nous permet de relier pour chaque avion la fréquence à laquelle il doit circuler pour respecter un débit de passagers donné.\n",
    "\n",
    "On discrétise par heure : $t \\in \\{0, ..., 23\\}$\n",
    "\n",
    "Ce qu'on veut minimiser, c'est \n",
    "$$\\sum_a FE_a * fuel_a * n_{vol_a} =\\sum_a \\sum_h FE_a * fuel_a * f_a(h)\n",
    "\n",
    "= \\sum_a \\sum_h FE_a * fuel_a * \\frac{d}{c_a}$$\n",
    "sous les contraintes\n",
    "$$ f_a > UNE VALEUR À DÉFINIR $$\n"
   ]
  },
  {
   "cell_type": "markdown",
   "id": "89a29256",
   "metadata": {},
   "source": [
    "## Optimization"
   ]
  },
  {
   "attachments": {},
   "cell_type": "markdown",
   "id": "84734b56",
   "metadata": {},
   "source": [
    "Probleme 1 : Trouver le couple (typde d'avion, fréquence de vol) qui minimise les émissions par jour sur la ligne Orly - Toulouse en respectant une fréquence minimale de 15 vols par jours et en transportant tout les passagers.\n",
    "2Prèoblèe me à 2 variables"
   ]
  },
  {
   "attachments": {},
   "cell_type": "markdown",
   "id": "3495878b",
   "metadata": {},
   "source": [
    "Données :"
   ]
  },
  {
   "cell_type": "code",
   "execution_count": 119,
   "id": "ffa8f76f",
   "metadata": {},
   "outputs": [],
   "source": [
    "p_an = 2.3e6 #nombre de passagers annuels sur la ligne Orly-Toulouse \n",
    "p_jour = round(p_an/365) #nb de passagers journaliers\n",
    "fv_min = 15 #fréquence minimale de vol par jour\n",
    "d = df_eurocontrol.query(\"ADEP == 'LFBO' & ADES == 'LFPO'\").Distance_km.mean()\n"
   ]
  },
  {
   "attachments": {},
   "cell_type": "markdown",
   "id": "1a76c943",
   "metadata": {},
   "source": [
    "Problème 2 : Trouver la liste des différents types d'avion qui minimise les émissions par jour sur la ligne Orly - Toulouse en respectant une fréquence minimale de 15 vols par jours et en transportant tout les passagers.\n",
    "Précision : on considère 50 vols max sur la journée, donc 50 variables"
